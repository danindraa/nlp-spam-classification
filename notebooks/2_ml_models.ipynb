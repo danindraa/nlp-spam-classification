from sklearn.model_selection import train_test_split
from sklearn.linear_model import LogisticRegression
from sklearn.ensemble import RandomForestClassifier
from sklearn.svm import SVC
from sklearn.neighbors import KNeighborsClassifier
from sklearn.metrics import classification_report
from sklearn.cluster import KMeans

# X dan y
y = df['label']
X_train_bow, X_test_bow, y_train_bow, y_test_bow = train_test_split(X_bow, y, test_size=0.2, random_state=42)
X_train_tfidf, X_test_tfidf, y_train_tfidf, y_test_tfidf = train_test_split(X_tfidf, y, test_size=0.2, random_state=42)
X_train_w2v, X_test_w2v, y_train_w2v, y_test_w2v = train_test_split(X_w2v, y, test_size=0.2, random_state=42)

# Logistic Regression
lr = LogisticRegression(max_iter=1000)
lr.fit(X_train_w2v, y_train_w2v)
print("Logistic Regression:\n", classification_report(y_test_w2v, lr.predict(X_test_w2v)))

# Random Forest
rf = RandomForestClassifier(n_estimators=100, random_state=42)
rf.fit(X_train_w2v, y_train_w2v)
print("Random Forest:\n", classification_report(y_test_w2v, rf.predict(X_test_w2v)))

# SVM
svm_model = SVC()
svm_model.fit(X_train_bow, y_train_bow)
print("SVM:\n", classification_report(y_test_bow, svm_model.predict(X_test_bow)))

# KNN
knn = KNeighborsClassifier(n_neighbors=5)
knn.fit(X_train_bow, y_train_bow)
print("KNN:\n", classification_report(y_test_bow, knn.predict(X_test_bow)))

# KMeans (Unsupervised)
kmeans = KMeans(n_clusters=2, random_state=42)
kmeans.fit(X_tfidf)
df['cluster'] = kmeans.labels_
print("Distribusi cluster:\n", df['cluster'].value_counts())
